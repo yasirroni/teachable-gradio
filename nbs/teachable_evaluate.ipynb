{
  "cells": [
    {
      "cell_type": "code",
      "execution_count": null,
      "metadata": {
        "id": "hBOIK2cqwn-r"
      },
      "outputs": [],
      "source": [
        "import os\n",
        "import numpy as np\n",
        "\n",
        "from keras.models import load_model  # TensorFlow is required for Keras to work\n",
        "from PIL import Image, ImageOps  # Install pillow instead of PIL\n",
        "from sklearn.metrics import confusion_matrix, classification_report"
      ]
    },
    {
      "cell_type": "code",
      "execution_count": null,
      "metadata": {
        "id": "72y_x_kUwn_D"
      },
      "outputs": [],
      "source": [
        "if 'google.colab' in str(get_ipython()):\n",
        "    from google.colab import drive\n",
        "    drive.mount('/content/drive')"
      ]
    },
    {
      "cell_type": "code",
      "execution_count": null,
      "metadata": {
        "id": "vLbyFOAUwn_N"
      },
      "outputs": [],
      "source": [
        "PROJECT_DIR = '/content/drive/MyDrive/Colab Notebooks/teachable-gradio'\n",
        "PROJECT_NAME = 'sample_project'\n",
        "TEACHABLE_MODEL_DIR = f'{PROJECT_DIR}/{PROJECT_NAME}/converted_keras'\n",
        "TEACHABLE_TRAIN_DIR = f'{PROJECT_DIR}/{PROJECT_NAME}/train'\n",
        "TEACHABLE_TEST_DIR = f'{PROJECT_DIR}/{PROJECT_NAME}/test'\n",
        "SHAPE = (224, 224)"
      ]
    },
    {
      "cell_type": "code",
      "execution_count": null,
      "metadata": {
        "id": "t1IzAGPewn_R"
      },
      "outputs": [],
      "source": [
        "# load the model and label\n",
        "model = load_model(f\"{TEACHABLE_MODEL_DIR}/keras_model.h5\", compile=False)\n",
        "class_names = open(f\"{TEACHABLE_MODEL_DIR}/labels.txt\", \"r\").readlines()\n",
        "class_names = [cn.replace('\\n', '') for cn in class_names]\n",
        "\n",
        "\n",
        "def pre_process_image(image):\n",
        "    # resizing the image to be at least 224x224 and then cropping from the center\n",
        "    image = ImageOps.fit(image, SHAPE, Image.LANCZOS)\n",
        "\n",
        "    # turn the image into a numpy array\n",
        "    image_array = np.asarray(image)\n",
        "\n",
        "    # normalize the image\n",
        "    normalized_image_array = (image_array.astype(np.float32) / 127.5) - 1\n",
        "\n",
        "    # reshape the image to batch format\n",
        "    reshaped_image_array = normalized_image_array.reshape((-1, SHAPE[0], SHAPE[1], 3))\n",
        "\n",
        "    return reshaped_image_array\n",
        "\n",
        "\n",
        "def classify_image(image):\n",
        "    image = pre_process_image(image)\n",
        "    prediction = model.predict(image)\n",
        "    confidences = {class_names[i]: float(prediction[0][i]) for i in range(len(class_names))}\n",
        "    return confidences"
      ]
    },
    {
      "cell_type": "code",
      "execution_count": null,
      "metadata": {
        "id": "_1IhQEHNwoA4"
      },
      "outputs": [],
      "source": [
        "def evaluate_model_on_dataset(dataset_dir):\n",
        "    true_labels = []\n",
        "    predicted_labels = []\n",
        "\n",
        "    for class_name in os.listdir(dataset_dir):\n",
        "        class_dir = os.path.join(dataset_dir, class_name)\n",
        "        for image_name in os.listdir(class_dir):\n",
        "            image_path = os.path.join(class_dir, image_name)\n",
        "            image = Image.open(image_path)\n",
        "            true_class_idx = class_names.index(class_name)\n",
        "\n",
        "            image = pre_process_image(image)\n",
        "            prediction = model.predict(image, verbose=0)\n",
        "            predicted_class_idx = np.argmax(prediction)\n",
        "\n",
        "            true_labels.append(true_class_idx)\n",
        "            predicted_labels.append(predicted_class_idx)\n",
        "\n",
        "    cm = confusion_matrix(true_labels, predicted_labels)\n",
        "    report = classification_report(true_labels, predicted_labels, target_names=class_names)\n",
        "\n",
        "    return cm, report\n",
        "\n",
        "# Evaluate on the training set\n",
        "train_cm, train_report = evaluate_model_on_dataset(TEACHABLE_TRAIN_DIR)\n",
        "print(\"Training Set Confusion Matrix:\")\n",
        "print(train_cm)\n",
        "print(\"Training Set Classification Report:\")\n",
        "print(train_report)\n",
        "\n",
        "# Evaluate on the validation/test set\n",
        "val_cm, val_report = evaluate_model_on_dataset(TEACHABLE_TEST_DIR)\n",
        "print(\"Validation Set Confusion Matrix:\")\n",
        "print(val_cm)\n",
        "print(\"Validation Set Classification Report:\")\n",
        "print(val_report)"
      ]
    },
    {
      "cell_type": "code",
      "source": [],
      "metadata": {
        "id": "vkgsDKKqTcVz"
      },
      "execution_count": null,
      "outputs": []
    }
  ],
  "metadata": {
    "colab": {
      "provenance": []
    },
    "kernelspec": {
      "display_name": "Python 3",
      "name": "python3"
    },
    "language_info": {
      "name": "python"
    }
  },
  "nbformat": 4,
  "nbformat_minor": 0
}