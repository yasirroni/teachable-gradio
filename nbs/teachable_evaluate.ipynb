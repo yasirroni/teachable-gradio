{
  "cells": [
    {
      "cell_type": "code",
      "execution_count": 1,
      "metadata": {
        "id": "hBOIK2cqwn-r"
      },
      "outputs": [],
      "source": [
        "import os\n",
        "import numpy as np\n",
        "\n",
        "from keras.models import load_model  # TensorFlow is required for Keras to work\n",
        "from PIL import Image, ImageOps  # Install pillow instead of PIL\n",
        "from sklearn.metrics import confusion_matrix, classification_report"
      ]
    },
    {
      "cell_type": "code",
      "execution_count": 2,
      "metadata": {
        "id": "72y_x_kUwn_D",
        "outputId": "0d4dbab5-4e4f-4bda-b4bc-a0d5c0a30daa",
        "colab": {
          "base_uri": "https://localhost:8080/"
        }
      },
      "outputs": [
        {
          "output_type": "stream",
          "name": "stdout",
          "text": [
            "Mounted at /content/drive\n"
          ]
        }
      ],
      "source": [
        "if 'google.colab' in str(get_ipython()):\n",
        "    from google.colab import drive\n",
        "    drive.mount('/content/drive')"
      ]
    },
    {
      "cell_type": "code",
      "execution_count": 3,
      "metadata": {
        "id": "vLbyFOAUwn_N"
      },
      "outputs": [],
      "source": [
        "PROJECT_DIR = '/content/drive/MyDrive/Colab Notebooks/teachable-gradio'\n",
        "PROJECT_NAME = 'sample_project'\n",
        "TEACHABLE_MODEL_DIR = f'{PROJECT_DIR}/{PROJECT_NAME}/converted_keras'\n",
        "TEACHABLE_TRAIN_DIR = f'{PROJECT_DIR}/{PROJECT_NAME}/train'\n",
        "TEACHABLE_TEST_DIR = f'{PROJECT_DIR}/{PROJECT_NAME}/test'\n",
        "SHAPE = (224, 224)"
      ]
    },
    {
      "cell_type": "code",
      "execution_count": 37,
      "metadata": {
        "id": "t1IzAGPewn_R"
      },
      "outputs": [],
      "source": [
        "# load the model and label\n",
        "model = load_model(f\"{TEACHABLE_MODEL_DIR}/keras_model.h5\", compile=False)\n",
        "class_names = open(f\"{TEACHABLE_MODEL_DIR}/labels.txt\", \"r\").readlines()\n",
        "class_names = [cn.replace('\\n', '') for cn in class_names]\n",
        "\n",
        "\n",
        "def pre_process_image(image):\n",
        "    # resizing the image to be at least 224x224 and then cropping from the center\n",
        "    image = ImageOps.fit(image, SHAPE, Image.LANCZOS)\n",
        "\n",
        "    # turn the image into a numpy array\n",
        "    image_array = np.asarray(image)\n",
        "\n",
        "    # normalize the image\n",
        "    image_array = (image_array.astype(np.float32) / 127.5) - 1\n",
        "\n",
        "    # reshape the image to batch format\n",
        "    image_array = image_array.reshape((-1, SHAPE[0], SHAPE[1], 3))\n",
        "\n",
        "    return image_array\n",
        "\n",
        "\n",
        "def classify_image(image):\n",
        "    image = pre_process_image(image)\n",
        "    prediction = model.predict(image)\n",
        "    confidences = {class_names[i]: float(prediction[0][i]) for i in range(len(class_names))}\n",
        "    return confidences"
      ]
    },
    {
      "cell_type": "code",
      "execution_count": 49,
      "metadata": {
        "id": "_1IhQEHNwoA4"
      },
      "outputs": [],
      "source": [
        "def evaluate_model_on_dataset(dataset_dir):\n",
        "    true_labels = []\n",
        "    predicted_labels = []\n",
        "    class_names_readed = []\n",
        "    for class_name in os.listdir(dataset_dir):\n",
        "        class_dir = os.path.join(dataset_dir, class_name)\n",
        "        for image_name in os.listdir(class_dir)[:5]:\n",
        "            try:\n",
        "              image_path = os.path.join(class_dir, image_name)\n",
        "              image = Image.open(image_path)\n",
        "              true_class_idx = class_names.index(class_name)\n",
        "              image = pre_process_image(image)\n",
        "            except:\n",
        "              continue\n",
        "            prediction = model.predict(image, verbose=0)\n",
        "            predicted_class_idx = np.argmax(prediction)\n",
        "\n",
        "            true_labels.append(true_class_idx)\n",
        "            predicted_labels.append(predicted_class_idx)\n",
        "            if class_name not in class_names_readed:\n",
        "              class_names_readed.append(class_name)\n",
        "\n",
        "    return true_labels, predicted_labels, class_names_readed\n",
        "\n",
        "# Evaluate on the training set\n",
        "true_labels, predicted_labels, class_names_readed = evaluate_model_on_dataset(TEACHABLE_TRAIN_DIR)\n",
        "true_labels = np.array(true_labels) - 1\n",
        "predicted_labels = np.array(predicted_labels) - 1\n",
        "# print(\"Training Set Confusion Matrix:\")\n",
        "# print(train_cm)\n",
        "# print(\"Training Set Classification Report:\")\n",
        "# print(train_report)\n",
        "\n",
        "# # Evaluate on the validation/test set\n",
        "# val_cm, val_report = evaluate_model_on_dataset(TEACHABLE_TEST_DIR)\n",
        "# print(\"Validation Set Confusion Matrix:\")\n",
        "# print(val_cm)\n",
        "# print(\"Validation Set Classification Report:\")\n",
        "# print(val_report)"
      ]
    },
    {
      "cell_type": "code",
      "source": [
        "cm = confusion_matrix(true_labels, predicted_labels)\n",
        "report = classification_report(true_labels, predicted_labels, target_names=class_names_readed)"
      ],
      "metadata": {
        "id": "vkgsDKKqTcVz",
        "outputId": "993ff850-6037-421b-a69c-a5991a050a66",
        "colab": {
          "base_uri": "https://localhost:8080/",
          "height": 332
        }
      },
      "execution_count": 52,
      "outputs": [
        {
          "output_type": "error",
          "ename": "ValueError",
          "evalue": "ignored",
          "traceback": [
            "\u001b[0;31m---------------------------------------------------------------------------\u001b[0m",
            "\u001b[0;31mValueError\u001b[0m                                Traceback (most recent call last)",
            "\u001b[0;32m<ipython-input-52-821fe965cbb8>\u001b[0m in \u001b[0;36m<cell line: 2>\u001b[0;34m()\u001b[0m\n\u001b[1;32m      1\u001b[0m \u001b[0mcm\u001b[0m \u001b[0;34m=\u001b[0m \u001b[0mconfusion_matrix\u001b[0m\u001b[0;34m(\u001b[0m\u001b[0mtrue_labels\u001b[0m\u001b[0;34m,\u001b[0m \u001b[0mpredicted_labels\u001b[0m\u001b[0;34m)\u001b[0m\u001b[0;34m\u001b[0m\u001b[0;34m\u001b[0m\u001b[0m\n\u001b[0;32m----> 2\u001b[0;31m \u001b[0mreport\u001b[0m \u001b[0;34m=\u001b[0m \u001b[0mclassification_report\u001b[0m\u001b[0;34m(\u001b[0m\u001b[0mtrue_labels\u001b[0m\u001b[0;34m,\u001b[0m \u001b[0mpredicted_labels\u001b[0m\u001b[0;34m,\u001b[0m \u001b[0mtarget_names\u001b[0m\u001b[0;34m=\u001b[0m\u001b[0mclass_names_readed\u001b[0m\u001b[0;34m)\u001b[0m\u001b[0;34m\u001b[0m\u001b[0;34m\u001b[0m\u001b[0m\n\u001b[0m",
            "\u001b[0;32m/usr/local/lib/python3.10/dist-packages/sklearn/metrics/_classification.py\u001b[0m in \u001b[0;36mclassification_report\u001b[0;34m(y_true, y_pred, labels, target_names, sample_weight, digits, output_dict, zero_division)\u001b[0m\n\u001b[1;32m   2330\u001b[0m             )\n\u001b[1;32m   2331\u001b[0m         \u001b[0;32melse\u001b[0m\u001b[0;34m:\u001b[0m\u001b[0;34m\u001b[0m\u001b[0;34m\u001b[0m\u001b[0m\n\u001b[0;32m-> 2332\u001b[0;31m             raise ValueError(\n\u001b[0m\u001b[1;32m   2333\u001b[0m                 \u001b[0;34m\"Number of classes, {0}, does not match size of \"\u001b[0m\u001b[0;34m\u001b[0m\u001b[0;34m\u001b[0m\u001b[0m\n\u001b[1;32m   2334\u001b[0m                 \u001b[0;34m\"target_names, {1}. Try specifying the labels \"\u001b[0m\u001b[0;34m\u001b[0m\u001b[0;34m\u001b[0m\u001b[0m\n",
            "\u001b[0;31mValueError\u001b[0m: Number of classes, 11, does not match size of target_names, 10. Try specifying the labels parameter"
          ]
        }
      ]
    },
    {
      "cell_type": "code",
      "source": [
        "cm"
      ],
      "metadata": {
        "id": "y-2IpUWwwIY_",
        "outputId": "9bb73140-285c-4938-ffbc-5895a0d0b22b",
        "colab": {
          "base_uri": "https://localhost:8080/"
        }
      },
      "execution_count": 51,
      "outputs": [
        {
          "output_type": "execute_result",
          "data": {
            "text/plain": [
              "array([[0, 0, 0, 0, 0, 0, 0, 0, 0, 0, 0],\n",
              "       [0, 5, 0, 0, 0, 0, 0, 0, 0, 0, 0],\n",
              "       [0, 0, 5, 0, 0, 0, 0, 0, 0, 0, 0],\n",
              "       [0, 0, 0, 5, 0, 0, 0, 0, 0, 0, 0],\n",
              "       [0, 0, 0, 0, 5, 0, 0, 0, 0, 0, 0],\n",
              "       [1, 0, 0, 0, 0, 2, 0, 0, 0, 0, 0],\n",
              "       [0, 0, 0, 0, 0, 0, 3, 0, 0, 0, 0],\n",
              "       [0, 0, 0, 0, 0, 0, 0, 5, 0, 0, 0],\n",
              "       [0, 0, 0, 0, 0, 0, 0, 0, 5, 0, 0],\n",
              "       [0, 0, 0, 0, 0, 0, 0, 0, 0, 5, 0],\n",
              "       [0, 0, 0, 0, 0, 0, 0, 0, 0, 0, 4]])"
            ]
          },
          "metadata": {},
          "execution_count": 51
        }
      ]
    },
    {
      "cell_type": "code",
      "source": [
        "class_names"
      ],
      "metadata": {
        "id": "CcLAQC7PwJgk",
        "outputId": "0bdfd26c-78fe-4cf5-8a86-2037260a11f0",
        "colab": {
          "base_uri": "https://localhost:8080/"
        }
      },
      "execution_count": 41,
      "outputs": [
        {
          "output_type": "execute_result",
          "data": {
            "text/plain": [
              "['0 Ha',\n",
              " '1 Na',\n",
              " '2 Ca',\n",
              " '3 Ra',\n",
              " '4 Ka',\n",
              " '5 Da',\n",
              " '6 Ta',\n",
              " '7 Sa',\n",
              " '8 Wa',\n",
              " '9 La',\n",
              " '10 Pa',\n",
              " '11 Dha',\n",
              " '12 Ja',\n",
              " '13 Ya',\n",
              " '14 Nya',\n",
              " '15 Ma',\n",
              " '16 Ga',\n",
              " '17 Ba',\n",
              " '18 Tha',\n",
              " '19 Nga']"
            ]
          },
          "metadata": {},
          "execution_count": 41
        }
      ]
    },
    {
      "cell_type": "code",
      "source": [
        "class_names_readed"
      ],
      "metadata": {
        "id": "uxYj0knzwrDf",
        "outputId": "9fd45d19-0187-4b0b-c72f-e498f60a7021",
        "colab": {
          "base_uri": "https://localhost:8080/"
        }
      },
      "execution_count": 46,
      "outputs": [
        {
          "output_type": "execute_result",
          "data": {
            "text/plain": [
              "['3 Ra',\n",
              " '4 Ka',\n",
              " '6 Ta',\n",
              " '5 Da',\n",
              " '9 La',\n",
              " '15 Ma',\n",
              " '14 Nya',\n",
              " '16 Ga',\n",
              " '17 Ba',\n",
              " '19 Nga']"
            ]
          },
          "metadata": {},
          "execution_count": 46
        }
      ]
    },
    {
      "cell_type": "code",
      "source": [
        "len(class_names_readed)"
      ],
      "metadata": {
        "id": "Q5zzuxmKxTGL",
        "outputId": "997c38ad-991d-4b7f-ad45-d48cf686ea42",
        "colab": {
          "base_uri": "https://localhost:8080/"
        }
      },
      "execution_count": 47,
      "outputs": [
        {
          "output_type": "execute_result",
          "data": {
            "text/plain": [
              "10"
            ]
          },
          "metadata": {},
          "execution_count": 47
        }
      ]
    },
    {
      "cell_type": "code",
      "source": [
        "true_labels"
      ],
      "metadata": {
        "id": "ieM6yo3kyX31",
        "outputId": "467c903f-9a7e-4be9-fcc3-56ba69a3a9ba",
        "colab": {
          "base_uri": "https://localhost:8080/"
        }
      },
      "execution_count": 48,
      "outputs": [
        {
          "output_type": "execute_result",
          "data": {
            "text/plain": [
              "[3,\n",
              " 3,\n",
              " 3,\n",
              " 3,\n",
              " 3,\n",
              " 4,\n",
              " 4,\n",
              " 4,\n",
              " 4,\n",
              " 4,\n",
              " 6,\n",
              " 6,\n",
              " 6,\n",
              " 6,\n",
              " 6,\n",
              " 5,\n",
              " 5,\n",
              " 5,\n",
              " 5,\n",
              " 5,\n",
              " 9,\n",
              " 9,\n",
              " 9,\n",
              " 15,\n",
              " 15,\n",
              " 15,\n",
              " 15,\n",
              " 15,\n",
              " 14,\n",
              " 14,\n",
              " 14,\n",
              " 16,\n",
              " 16,\n",
              " 16,\n",
              " 16,\n",
              " 16,\n",
              " 17,\n",
              " 17,\n",
              " 17,\n",
              " 17,\n",
              " 17,\n",
              " 19,\n",
              " 19,\n",
              " 19,\n",
              " 19]"
            ]
          },
          "metadata": {},
          "execution_count": 48
        }
      ]
    },
    {
      "cell_type": "code",
      "source": [],
      "metadata": {
        "id": "dOr38NnSyYY1"
      },
      "execution_count": null,
      "outputs": []
    }
  ],
  "metadata": {
    "colab": {
      "provenance": []
    },
    "kernelspec": {
      "display_name": "Python 3",
      "name": "python3"
    },
    "language_info": {
      "name": "python"
    }
  },
  "nbformat": 4,
  "nbformat_minor": 0
}