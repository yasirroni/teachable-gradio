{
 "cells": [
  {
   "cell_type": "code",
   "execution_count": null,
   "metadata": {},
   "outputs": [],
   "source": [
    "import json\n",
    "\n",
    "import h5py"
   ]
  },
  {
   "cell_type": "code",
   "execution_count": null,
   "metadata": {},
   "outputs": [],
   "source": [
    "PROJECT_DIR = '/content/drive/MyDrive/Colab Notebooks/teachable-gradio'\n",
    "PROJECT_NAME = 'sample_project'\n",
    "TEACHABLE_MODEL_DIR = f'{PROJECT_DIR}/{PROJECT_NAME}/converted_keras'\n",
    "TEACHABLE_MODEL_PATH = f\"{TEACHABLE_MODEL_DIR}/keras_model.h5\""
   ]
  },
  {
   "cell_type": "code",
   "execution_count": null,
   "metadata": {},
   "outputs": [],
   "source": [
    "model_path = TEACHABLE_MODEL_PATH\n",
    "\n",
    "\n",
    "with h5py.File(model_path, \"r+\") as f:\n",
    "    # Read model configuration\n",
    "    model_config_str = f.attrs[\"model_config\"]  # Already a string, no need to decode\n",
    "    model_config_dict = json.loads(model_config_str)  # Convert string to dictionary\n",
    "\n",
    "    # Loop through all layers and remove 'groups' if present\n",
    "    for layer in model_config_dict[\"config\"][\"layers\"]:\n",
    "        if \"groups\" in layer[\"config\"]:\n",
    "            del layer[\"config\"][\"groups\"]\n",
    "\n",
    "    # Convert back to JSON string and save it\n",
    "    new_model_config_str = json.dumps(model_config_dict)\n",
    "    f.attrs[\"model_config\"] = new_model_config_str  # Save modified config\n",
    "\n",
    "print(\"Successfully removed 'groups' from model configuration.\")"
   ]
  },
  {
   "cell_type": "code",
   "execution_count": null,
   "metadata": {},
   "outputs": [],
   "source": []
  }
 ],
 "metadata": {
  "kernelspec": {
   "display_name": "env",
   "language": "python",
   "name": "python3"
  },
  "language_info": {
   "codemirror_mode": {
    "name": "ipython",
    "version": 3
   },
   "file_extension": ".py",
   "mimetype": "text/x-python",
   "name": "python",
   "nbconvert_exporter": "python",
   "pygments_lexer": "ipython3",
   "version": "3.12.8"
  }
 },
 "nbformat": 4,
 "nbformat_minor": 2
}
